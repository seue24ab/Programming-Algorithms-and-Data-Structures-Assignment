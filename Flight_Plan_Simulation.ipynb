{
 "cells": [
  {
   "cell_type": "markdown",
   "metadata": {
    "id": "YaTwnevZN4b3"
   },
   "source": [
    "## Copenhagen Business School\n",
    "#### Home Assignment: Programming, Algorithms and Data Structures\n",
    "#### Coded by Sebastian Uedingslohmann (175867)"
   ]
  },
  {
   "cell_type": "code",
   "execution_count": 133,
   "metadata": {
    "id": "_JwVOEx3e3t4"
   },
   "outputs": [],
   "source": [
    "# Import the required libraries\n",
    "import random\n",
    "import datetime\n",
    "from datetime import timedelta"
   ]
  },
  {
   "cell_type": "code",
   "execution_count": 134,
   "metadata": {
    "id": "2iITZyb47lnu"
   },
   "outputs": [],
   "source": [
    "# Set start time and end time of the simulation\n",
    "start_time = datetime.datetime(2024, 12, 20, 6, 0)\n",
    "end_time = datetime.datetime(2024, 12, 20, 23, 0)"
   ]
  },
  {
   "cell_type": "code",
   "execution_count": 135,
   "metadata": {
    "id": "FlPMxldOfJsE"
   },
   "outputs": [],
   "source": [
    "# Define class Planes and initialize the constructor\n",
    "class Planes:\n",
    "  def __init__(self, registration, aircraft_type, capacity, range, turnaround_time, start_time):\n",
    "    self.registration = registration\n",
    "    self.aircraft_type = aircraft_type\n",
    "    self.capacity = capacity\n",
    "    self.range = range\n",
    "    self.turnaround_time = timedelta(hours = turnaround_time)\n",
    "    self.available_from = start_time\n",
    "    self.current_crew = None"
   ]
  },
  {
   "cell_type": "code",
   "execution_count": 136,
   "metadata": {
    "id": "D7s-8q_Cfp1I"
   },
   "outputs": [],
   "source": [
    "# Define class Destinations and initialize the constructor\n",
    "class Destinations:\n",
    "  def __init__(self, iata, city, distance, flight_time):\n",
    "    self.iata = iata\n",
    "    self.city = city\n",
    "    self.distance = distance\n",
    "    self.flight_time = timedelta(hours = flight_time)\n",
    "    self.estimated_demand = random.randint(30, 100) # Demand for each route is determined randomly\n",
    "    self.profit_per_head = 15 # Profitability of each passenger is the same for better comparison\n",
    "    self.occupancy = 0\n",
    "\n",
    "  # Sort the destinations by profitability using merge sort\n",
    "  @staticmethod\n",
    "  def merge_sort(destinations):\n",
    "    \"\"\"\n",
    "    This function splits the destinations in lists.\n",
    "    \"\"\"\n",
    "    if len(destinations) <= 1:\n",
    "      return destinations\n",
    "\n",
    "    mid = len(destinations) // 2\n",
    "    lower = Destinations.merge_sort(destinations[:mid])\n",
    "    upper = Destinations.merge_sort(destinations[mid:])\n",
    "\n",
    "    return Destinations.merge(lower, upper)\n",
    "\n",
    "  @staticmethod\n",
    "  def merge(lower, upper):\n",
    "    \"\"\"\n",
    "    This function merges the lists and sorts them based on the estimated_demand.\n",
    "    \"\"\"\n",
    "    destinations_sorted = []\n",
    "    while lower and upper:\n",
    "      if lower[0].estimated_demand > upper[0].estimated_demand:\n",
    "        destinations_sorted.append(lower.pop(0))\n",
    "      else:\n",
    "        destinations_sorted.append(upper.pop(0))\n",
    "    destinations_sorted.extend(lower if lower else upper)\n",
    "    return destinations_sorted\n",
    "\n",
    "  def calculate_profit(self, plane):\n",
    "    \"\"\"\n",
    "    This method calculates the profit earned with a served route (forth and back).\n",
    "    \"\"\"\n",
    "    occupancy = self.estimated_demand * (1/100) * plane.capacity * 2\n",
    "    return self.profit_per_head * occupancy"
   ]
  },
  {
   "cell_type": "code",
   "execution_count": 137,
   "metadata": {
    "id": "bl8uRQyY4eP1"
   },
   "outputs": [],
   "source": [
    "# Define class Crew and initialize the constructor\n",
    "class Crew:\n",
    "  def __init__(self, id, position):\n",
    "    self.id = id\n",
    "    self.position = position\n",
    "    self.total_hours = timedelta(hours = 0)\n",
    "    self.max_working_hours = timedelta(hours = 10)\n",
    "    self.available_from = datetime.datetime(2024, 12, 20, 6, 0)\n",
    "    self.assigned_plane = None\n",
    "    self.shift_start = None\n",
    "    self.shift_end = None\n",
    "\n",
    "  def calculate_shift_end(self, crew, travel_time):\n",
    "    \"\"\"\n",
    "    This method calculates the time when a crew member needs to stop working at the latest to not exceed the maximum working hours.\n",
    "    \"\"\"\n",
    "    crew.shift_end = crew.shift_start + crew.max_working_hours\n",
    "\n",
    "  def can_work(self, current_time, flight_time):\n",
    "    \"\"\"\n",
    "    This method returns a boolean and determines if the crew can operate the leg without exceeding the maximum working time.\n",
    "    \"\"\"\n",
    "    return current_time + flight_time <= self.shift_end\n",
    "\n",
    "  def add_working_hours(self, hours):\n",
    "    \"\"\"\n",
    "    This method counts the hours the crew worked over the day.\n",
    "    \"\"\"\n",
    "    self.total_hours += hours"
   ]
  },
  {
   "cell_type": "code",
   "execution_count": 138,
   "metadata": {
    "id": "E0OSR8jM7JJO"
   },
   "outputs": [],
   "source": [
    "# Define class Captain\n",
    "class Captain(Crew):\n",
    "  def __init__(self, id):\n",
    "    super().__init__(id, position = 'Captain') # Inherits from parent class Crew\n",
    "\n",
    "# Define class First Officer\n",
    "class FirstOfficer(Crew):\n",
    "  def __init__(self, id):\n",
    "    super().__init__(id, position = 'First Officer') # Inherits from parent class Crew\n",
    "\n",
    "# Define class FlightAttendant\n",
    "class FlightAttendant(Crew):\n",
    "  def __init__(self, id):\n",
    "    super().__init__(id, position = 'Flight Attendant') # Inherits from parent class Crew"
   ]
  },
  {
   "cell_type": "code",
   "execution_count": 139,
   "metadata": {
    "id": "36SHPdPKf-O8"
   },
   "outputs": [],
   "source": [
    "# Define class Simulation and initialize the constructor.\n",
    "class Simulation:\n",
    "  def __init__(self, planes, destinations, start_time, end_time, crew_members):\n",
    "    self.planes = planes\n",
    "    self.destinations = Destinations.merge_sort(destinations)\n",
    "    self.start_time = start_time\n",
    "    self.current_time = start_time\n",
    "    self.end_time = end_time\n",
    "    self.total_profit = 0\n",
    "    self.no_more_flights = False\n",
    "    self.crew_members = crew_members\n",
    "    self.available_crew = [crew for crew in self.crew_members if crew.total_hours == timedelta(hours = 0)]\n",
    "\n",
    "  def simulation_run(self):\n",
    "    \"\"\"\n",
    "    This method initializes the loop to iterate over the whole day and starts the simulation.\n",
    "    \"\"\"\n",
    "    print(f'The simulation now generates an optimal flight plan on {self.start_time.date()}. It maximizes profit and considers the maximum working hours of the employees.')\n",
    "\n",
    "    while self.current_time < self.end_time: # The iteration goes on until the current time reaches the end of the day\n",
    "      available_planes = self.available_planes()\n",
    "      if self.no_more_flights: # The simulation ends earlier if the evening arrived and no destination can be served anymore, so that the plane could return to Frankfurt in time\n",
    "        print(f'No more destinations can be served on this day, since the plane would return to Frankfurt after 23:00. The simulation is done. Total expected profit on {self.start_time.date()}: {self.total_profit:.2f} €.')\n",
    "        break\n",
    "      if available_planes: # If there is an available plane, the method schedule_flight is called to operate a flight\n",
    "        for plane in available_planes: # Since multiple planes of the fleet might be free, the program iterates over the list of available planes to operate all of them\n",
    "          if self.destinations:\n",
    "            self.schedule_flight(plane)\n",
    "          else:\n",
    "            print('No destination left to assign. Parking all planes for the rest of the day.')\n",
    "            break\n",
    "      self.current_time += timedelta(minutes = 1) # The simulation iterates over the day in steps of one minute\n",
    "\n",
    "    while True:\n",
    "      user_input = input('Are you interested in the working hours of each crew member (Yes/No)? ').lower().strip()\n",
    "      if user_input in ['yes', 'no']:\n",
    "        break\n",
    "      print('Invalid input. Please enter wither \"Yes\" or \"No\".')\n",
    "    if user_input == 'yes':\n",
    "      for crew in self.crew_members:\n",
    "            print(f'{crew.id} worked {crew.total_hours} hours.')\n",
    "    else:\n",
    "      print(f'Working hours will not be printed.')\n",
    "\n",
    "  def available_planes(self):\n",
    "    \"\"\"\n",
    "    This method determined which planes are available at the moment.\n",
    "    \"\"\"\n",
    "    available_planes = []\n",
    "    for plane in self.planes: # Checks every plane and determines if there is an available plane in the fleet\n",
    "      if plane.available_from == self.current_time:\n",
    "        available_planes.append(plane) # Appends a free plane to the list\n",
    "    return available_planes\n",
    "\n",
    "  def is_in_range(self, plane, destination):\n",
    "    \"\"\"\n",
    "    This method checks if the requested destination can be served by the aircraft type. Returns True, if the plane can fly the distance.\n",
    "    \"\"\"\n",
    "    return plane.range >= destination.distance # Returns boolean, True of the aircraft type can cover the distance to the destination\n",
    "\n",
    "  def travel_time_not_too_long(self, travel_time):\n",
    "    \"\"\"\n",
    "    This method determines whether the plane would return to Frankfurt Airport in time before the night flight ban at Frankfurt Airport.\n",
    "    \"\"\"\n",
    "    return self.current_time + travel_time <= self.end_time # Returns boolean, True if the plane would return to Frankfurt in time before the simulation ends\n",
    "\n",
    "  def assign_crew_to_plane(self, plane, travel_time):\n",
    "    \"\"\"\n",
    "    This method assigns a crew to an available plane. One crew can only operate one single plane on one day.\n",
    "    \"\"\"\n",
    "    crew_plane = []\n",
    "    required_roles = ['Captain', 'First Officer', 'Flight Attendant', 'Flight Attendant', 'Flight Attendant'] # Every flight needs to be operated by one captain, one first officer and three cabin crews\n",
    "    for role in required_roles: # Iterate over every role\n",
    "      for crew in self.available_crew: # Iterate over every staff\n",
    "        if crew.position == role:\n",
    "          crew_plane.append(crew) # Appends crew member to the list if it has the required role\n",
    "          crew.shift_start = self.current_time # Starts counting the hours since every crew may not work longer than 10 hours\n",
    "          crew.calculate_shift_end(crew, travel_time)\n",
    "          self.available_crew.remove(crew) # Crew member is assigned to the plane for the day and not available to operate another plane during this day\n",
    "          crew.add_working_hours(travel_time)\n",
    "          break # Break the loop if this role is staffed\n",
    "\n",
    "    if not crew_plane: # Cover the case that no crew is left for the day\n",
    "      raise ValueError(f'No crew could be assigned to {plane.registration} due to lack of crew.')\n",
    "\n",
    "    plane.current_crew = crew_plane # Assign the assembled crew to the plane\n",
    "    return True\n",
    "\n",
    "  def schedule_flight(self, plane):\n",
    "    \"\"\"\n",
    "    This method schedules a flight depending on available planes, most profitable destinations and available crews.\n",
    "    \"\"\"\n",
    "    for i, destination in enumerate(self.destinations): # Iterate over the sorted destinations\n",
    "\n",
    "      if self.is_in_range(plane, destination):\n",
    "        travel_time = destination.flight_time + plane.turnaround_time + destination.flight_time # Calculate travel time: Flight time forth, turnaround duration at destination airport, and flight time back to FRA\n",
    "\n",
    "        if self.travel_time_not_too_long(travel_time):\n",
    "\n",
    "          plane.available_from = self.current_time + travel_time + plane.turnaround_time # Occupy plane for the travel time. Also add turnaround time because the plane needs to get dispatched in Frankfurt again upon arrival\n",
    "          return_time = self.current_time + travel_time # Set return time of the plane\n",
    "          profit = destination.calculate_profit(plane)\n",
    "          self.total_profit += profit # Sum up the profit\n",
    "\n",
    "          if plane.current_crew == None:\n",
    "            try:\n",
    "              self.assign_crew_to_plane(plane, travel_time) # Call method assign_crew_to_plane if the plane does not have a crew assigned\n",
    "            except ValueError as e:\n",
    "              print(f'{e} {plane.registration} stays grounded.')\n",
    "              return\n",
    "\n",
    "          elif not all ( # If the plane has a crew assigned, it must be checked if the crew can continue to operate the next flight or if they would exceed the maximum working hours\n",
    "            crew.can_work(self.current_time, travel_time) for crew in plane.current_crew): # Necessary because plane.current_crew is defined as a list but the method can_work cannot be applied to a list\n",
    "              try:\n",
    "                self.assign_crew_to_plane(plane, travel_time) # If the crew would exceed the maximum working hours with the flight the plane will operate next, then the crew must be replaced\n",
    "              except ValueError as e:\n",
    "                print(f'{e} {plane.registration} stays grounded.')\n",
    "                return # Break loop for the plane if there is no crew to operate the plane for the rest of the day\n",
    "          else:\n",
    "            for crew in plane.current_crew:\n",
    "              crew.add_working_hours(travel_time)\n",
    "\n",
    "          print(f'{plane.registration} ({plane.aircraft_type}) departs to {destination.city} ({destination.iata}) at {self.current_time.time()} and returns to Frankfurt (FRA) at {return_time.time()}. Expected profit: {profit:.2f} € '\n",
    "                f'Crew: {[crew.id for crew in plane.current_crew]}') # Console output\n",
    "          self.destinations.pop(i) # Destination should not be served more than once per day\n",
    "          return\n",
    "\n",
    "      else:\n",
    "        print(f'Destination {destination.iata} is out of range for the aircraft {plane.registration}')\n",
    "    self.no_more_flights = True # It was found that no destination can be served on this day anymore"
   ]
  },
  {
   "cell_type": "code",
   "execution_count": 140,
   "metadata": {
    "id": "bWj-sNDtgP5T"
   },
   "outputs": [],
   "source": [
    "# Generate some instances for class Destinations\n",
    "destinations = [\n",
    "    Destinations(\"CPH\", \"Copenhagen\", 680, 1.2), # Passes IATA-code, city name, distance from Frankfurt Airport in kilometers, and flight time in hours\n",
    "    Destinations(\"LHR\", \"London Heathrow\", 780, 1.3),\n",
    "    Destinations(\"VLC\", \"Valencia\", 1460, 2.4),\n",
    "    Destinations(\"LIS\", \"Lisbon\", 2140, 3.5),\n",
    "    Destinations(\"ARN\", \"Stockholm Arlanda\", 1300, 2.2),\n",
    "    Destinations(\"TFS\", \"Tenerife South\", 3280, 4.5),\n",
    "    Destinations(\"PMO\", \"Palermo\", 1370, 2.3),\n",
    "    Destinations(\"LIN\", \"Milan Linate\", 520, 1.0),\n",
    "    Destinations(\"ZRH\", \"Zurich\", 300, 0.8),\n",
    "    Destinations(\"DUS\", \"Düsseldorf\", 230, 0.7),\n",
    "    Destinations(\"VIE\", \"Vienna\", 600, 1.2),\n",
    "    Destinations(\"PMI\", \"Palma de Mallorca\", 1252, 2.0),\n",
    "    Destinations(\"KEF\", \"Reykjavík\", 2400, 3.5),\n",
    "    Destinations(\"MUC\", \"Munich\", 300, 0.8),\n",
    "    Destinations(\"CDG\", \"Paris Charles de Gaulle\", 480, 1.0),\n",
    "    Destinations(\"DUB\", \"Dublin\", 1080, 2.0),\n",
    "    Destinations(\"GVA\", \"Geneva\", 450, 1.0)\n",
    "]"
   ]
  },
  {
   "cell_type": "code",
   "execution_count": 141,
   "metadata": {
    "id": "2_tT1aqa6iQf"
   },
   "outputs": [],
   "source": [
    "# Generate some instances for class Planes\n",
    "planes = [\n",
    "    Planes('D-AIZI', 'A320', 168, 4100, 0.75, start_time), # Passes registration, aircraft type, capacity, range in kilometers, turnaround time in hours, and simulation start time\n",
    "    Planes('D-AIZG', 'A320', 168, 4100, 0.75, start_time),\n",
    "    Planes('D-AIUL', 'A320', 168, 4100, 0.75, start_time)\n",
    "]"
   ]
  },
  {
   "cell_type": "code",
   "execution_count": 142,
   "metadata": {
    "id": "-5ZWx5jLVkbN"
   },
   "outputs": [],
   "source": [
    "# Generate some instances for class Captain, FirstOfficer and FlightAttendant\n",
    "crew_members = [\n",
    "    Captain(\"CPT-001\"), # Passes the crew ID\n",
    "    Captain(\"CPT-002\"),\n",
    "    Captain(\"CPT-003\"),\n",
    "    Captain(\"CPT-004\"),\n",
    "    Captain(\"CPT-005\"),\n",
    "    Captain(\"CPT-006\"),\n",
    "\n",
    "    FirstOfficer(\"FO-001\"),\n",
    "    FirstOfficer(\"FO-002\"),\n",
    "    FirstOfficer(\"FO-003\"),\n",
    "    FirstOfficer(\"FO-004\"),\n",
    "    FirstOfficer(\"FO-005\"),\n",
    "    FirstOfficer(\"FO-006\"),\n",
    "\n",
    "    FlightAttendant(\"FA-001\"),\n",
    "    FlightAttendant(\"FA-002\"),\n",
    "    FlightAttendant(\"FA-003\"),\n",
    "    FlightAttendant(\"FA-004\"),\n",
    "    FlightAttendant(\"FA-005\"),\n",
    "    FlightAttendant(\"FA-006\"),\n",
    "    FlightAttendant(\"FA-007\"),\n",
    "    FlightAttendant(\"FA-008\"),\n",
    "    FlightAttendant(\"FA-009\"),\n",
    "    FlightAttendant(\"FA-010\"),\n",
    "    FlightAttendant(\"FA-011\"),\n",
    "    FlightAttendant(\"FA-012\"),\n",
    "    FlightAttendant(\"FA-013\"),\n",
    "    FlightAttendant(\"FA-014\"),\n",
    "    FlightAttendant(\"FA-015\"),\n",
    "    FlightAttendant(\"FA-016\"),\n",
    "    FlightAttendant(\"FA-017\"),\n",
    "    FlightAttendant(\"FA-018\"),\n",
    "]"
   ]
  },
  {
   "cell_type": "code",
   "execution_count": 143,
   "metadata": {
    "id": "XV6-MwLT7WOu"
   },
   "outputs": [],
   "source": [
    "# Create an instance for class Simulation\n",
    "simulation = Simulation(planes, destinations, start_time, end_time, crew_members) # Pass the list planes, destinations, simulation start and end time as well as the crew members"
   ]
  },
  {
   "cell_type": "code",
   "execution_count": 144,
   "metadata": {
    "colab": {
     "base_uri": "https://localhost:8080/"
    },
    "id": "81rR8bce8fjk",
    "outputId": "9c5508cd-e5b0-43b5-985b-93103b347b24"
   },
   "outputs": [
    {
     "name": "stdout",
     "output_type": "stream",
     "text": [
      "The simulation now generates an optimal flight plan on 2024-12-20. It maximizes profit and considers the maximum working hours of the employees.\n",
      "D-AIZI (A320) departs to Palma de Mallorca (PMI) at 06:00:00 and returns to Frankfurt (FRA) at 10:45:00. Expected profit: 4989.60 € Crew: ['CPT-001', 'FO-001', 'FA-001', 'FA-002', 'FA-003']\n",
      "D-AIZG (A320) departs to Milan Linate (LIN) at 06:00:00 and returns to Frankfurt (FRA) at 08:45:00. Expected profit: 4888.80 € Crew: ['CPT-002', 'FO-002', 'FA-004', 'FA-005', 'FA-006']\n",
      "D-AIUL (A320) departs to Zurich (ZRH) at 06:00:00 and returns to Frankfurt (FRA) at 08:21:00. Expected profit: 4435.20 € Crew: ['CPT-003', 'FO-003', 'FA-007', 'FA-008', 'FA-009']\n",
      "D-AIUL (A320) departs to Düsseldorf (DUS) at 09:06:00 and returns to Frankfurt (FRA) at 11:15:00. Expected profit: 4334.40 € Crew: ['CPT-003', 'FO-003', 'FA-007', 'FA-008', 'FA-009']\n",
      "D-AIZG (A320) departs to Stockholm Arlanda (ARN) at 09:30:00 and returns to Frankfurt (FRA) at 14:39:00. Expected profit: 4032.00 € Crew: ['CPT-002', 'FO-002', 'FA-004', 'FA-005', 'FA-006']\n",
      "D-AIZI (A320) departs to Tenerife South (TFS) at 11:30:00 and returns to Frankfurt (FRA) at 21:15:00. Expected profit: 3628.80 € Crew: ['CPT-004', 'FO-004', 'FA-010', 'FA-011', 'FA-012']\n",
      "D-AIUL (A320) departs to Geneva (GVA) at 12:00:00 and returns to Frankfurt (FRA) at 14:45:00. Expected profit: 3578.40 € Crew: ['CPT-003', 'FO-003', 'FA-007', 'FA-008', 'FA-009']\n",
      "D-AIZG (A320) departs to Palermo (PMO) at 15:24:00 and returns to Frankfurt (FRA) at 20:45:00. Expected profit: 3427.20 € Crew: ['CPT-005', 'FO-005', 'FA-013', 'FA-014', 'FA-015']\n",
      "D-AIUL (A320) departs to Copenhagen (CPH) at 15:30:00 and returns to Frankfurt (FRA) at 18:39:00. Expected profit: 3225.60 € Crew: ['CPT-006', 'FO-006', 'FA-016', 'FA-017', 'FA-018']\n",
      "D-AIUL (A320) departs to London Heathrow (LHR) at 19:24:00 and returns to Frankfurt (FRA) at 22:45:00. Expected profit: 3124.80 € Crew: ['CPT-006', 'FO-006', 'FA-016', 'FA-017', 'FA-018']\n",
      "No more destinations can be served on this day, since the plane would return to Frankfurt after 23:00. The simulation is done. Total expected profit on 2024-12-20: 39664.80 €.\n"
     ]
    },
    {
     "name": "stdin",
     "output_type": "stream",
     "text": [
      "Are you interested in the working hours of each crew member (Yes/No)?  No\n"
     ]
    },
    {
     "name": "stdout",
     "output_type": "stream",
     "text": [
      "Working hours will not be printed.\n"
     ]
    }
   ],
   "source": [
    "# Initiate the simulation by calling the method simulation_run\n",
    "simulation.simulation_run()"
   ]
  },
  {
   "cell_type": "code",
   "execution_count": null,
   "metadata": {
    "id": "cw9YnuQm9HgG"
   },
   "outputs": [],
   "source": []
  }
 ],
 "metadata": {
  "colab": {
   "provenance": []
  },
  "kernelspec": {
   "display_name": "Python 3 (ipykernel)",
   "language": "python",
   "name": "python3"
  },
  "language_info": {
   "codemirror_mode": {
    "name": "ipython",
    "version": 3
   },
   "file_extension": ".py",
   "mimetype": "text/x-python",
   "name": "python",
   "nbconvert_exporter": "python",
   "pygments_lexer": "ipython3",
   "version": "3.12.4"
  }
 },
 "nbformat": 4,
 "nbformat_minor": 4
}
